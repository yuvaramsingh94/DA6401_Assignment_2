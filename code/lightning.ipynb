{
 "cells": [
  {
   "cell_type": "markdown",
   "metadata": {},
   "source": [
    "[Tutorial](https://lightning.ai/docs/pytorch/stable/starter/introduction.html)"
   ]
  },
  {
   "cell_type": "code",
   "execution_count": 6,
   "metadata": {},
   "outputs": [
    {
     "name": "stderr",
     "output_type": "stream",
     "text": [
      "Seed set to 42\n"
     ]
    },
    {
     "data": {
      "text/plain": [
       "42"
      ]
     },
     "execution_count": 6,
     "metadata": {},
     "output_type": "execute_result"
    }
   ],
   "source": [
    "import os\n",
    "from torch import optim, nn, utils, Tensor\n",
    "from torchvision.datasets import MNIST\n",
    "from torchvision.transforms import ToTensor\n",
    "import lightning as L\n",
    "from lightning.pytorch import Trainer, seed_everything\n",
    "import os\n",
    "import pandas as pd\n",
    "from torchvision.io import read_image\n",
    "from torch.utils.data import Dataset\n",
    "\n",
    "\n",
    "seed_everything(42, workers=True)"
   ]
  },
  {
   "cell_type": "code",
   "execution_count": 7,
   "metadata": {},
   "outputs": [],
   "source": [
    "def dir_to_df(PATH:os.path)-> pd.DataFrame:\n",
    "    data_dict = {\"image_path\":[],\"label\":[]}\n",
    "    for label in os.listdir(PATH):\n",
    "        if os.path.isdir(os.path.join(PATH,label)):\n",
    "            image_path = [os.path.join(os.path.join(PATH,label),i) for i in os.listdir(os.path.join(PATH,label))]\n",
    "            label_list = [label]*len(image_path)\n",
    "            data_dict[\"image_path\"].extend(image_path)\n",
    "            data_dict[\"label\"].extend(label_list)\n",
    "\n",
    "    data_df = pd.DataFrame.from_dict(data_dict)\n",
    "    return data_df"
   ]
  },
  {
   "cell_type": "code",
   "execution_count": 19,
   "metadata": {},
   "outputs": [],
   "source": [
    "## Make a dataframe with the label\n",
    "## Train\n",
    "DATASET_PATH = os.path.join(\"..\",\"dataset\",\"nature_12K\",\"inaturalist_12K\")\n",
    "TRAIN_PATH = os.path.join(DATASET_PATH,'train')\n",
    "VAL_PATH = os.path.join(DATASET_PATH,'val')\n",
    "\n",
    "train_df = dir_to_df(TRAIN_PATH)\n",
    "val_df = dir_to_df(VAL_PATH)\n",
    "class_mapping_dict = {j:i+1 for i,j in enumerate(val_df[\"label\"].unique())}\n",
    "train_df[\"label_id\"] = train_df[\"label\"].map(class_mapping_dict)\n",
    "val_df[\"label_id\"] = val_df[\"label\"].map(class_mapping_dict)"
   ]
  },
  {
   "cell_type": "code",
   "execution_count": 20,
   "metadata": {},
   "outputs": [
    {
     "data": {
      "text/html": [
       "<div>\n",
       "<style scoped>\n",
       "    .dataframe tbody tr th:only-of-type {\n",
       "        vertical-align: middle;\n",
       "    }\n",
       "\n",
       "    .dataframe tbody tr th {\n",
       "        vertical-align: top;\n",
       "    }\n",
       "\n",
       "    .dataframe thead th {\n",
       "        text-align: right;\n",
       "    }\n",
       "</style>\n",
       "<table border=\"1\" class=\"dataframe\">\n",
       "  <thead>\n",
       "    <tr style=\"text-align: right;\">\n",
       "      <th></th>\n",
       "      <th>image_path</th>\n",
       "      <th>label</th>\n",
       "      <th>label_id</th>\n",
       "    </tr>\n",
       "  </thead>\n",
       "  <tbody>\n",
       "    <tr>\n",
       "      <th>0</th>\n",
       "      <td>..\\dataset\\nature_12K\\inaturalist_12K\\train\\Am...</td>\n",
       "      <td>Amphibia</td>\n",
       "      <td>1</td>\n",
       "    </tr>\n",
       "    <tr>\n",
       "      <th>1</th>\n",
       "      <td>..\\dataset\\nature_12K\\inaturalist_12K\\train\\Am...</td>\n",
       "      <td>Amphibia</td>\n",
       "      <td>1</td>\n",
       "    </tr>\n",
       "    <tr>\n",
       "      <th>2</th>\n",
       "      <td>..\\dataset\\nature_12K\\inaturalist_12K\\train\\Am...</td>\n",
       "      <td>Amphibia</td>\n",
       "      <td>1</td>\n",
       "    </tr>\n",
       "    <tr>\n",
       "      <th>3</th>\n",
       "      <td>..\\dataset\\nature_12K\\inaturalist_12K\\train\\Am...</td>\n",
       "      <td>Amphibia</td>\n",
       "      <td>1</td>\n",
       "    </tr>\n",
       "    <tr>\n",
       "      <th>4</th>\n",
       "      <td>..\\dataset\\nature_12K\\inaturalist_12K\\train\\Am...</td>\n",
       "      <td>Amphibia</td>\n",
       "      <td>1</td>\n",
       "    </tr>\n",
       "    <tr>\n",
       "      <th>...</th>\n",
       "      <td>...</td>\n",
       "      <td>...</td>\n",
       "      <td>...</td>\n",
       "    </tr>\n",
       "    <tr>\n",
       "      <th>9995</th>\n",
       "      <td>..\\dataset\\nature_12K\\inaturalist_12K\\train\\Re...</td>\n",
       "      <td>Reptilia</td>\n",
       "      <td>10</td>\n",
       "    </tr>\n",
       "    <tr>\n",
       "      <th>9996</th>\n",
       "      <td>..\\dataset\\nature_12K\\inaturalist_12K\\train\\Re...</td>\n",
       "      <td>Reptilia</td>\n",
       "      <td>10</td>\n",
       "    </tr>\n",
       "    <tr>\n",
       "      <th>9997</th>\n",
       "      <td>..\\dataset\\nature_12K\\inaturalist_12K\\train\\Re...</td>\n",
       "      <td>Reptilia</td>\n",
       "      <td>10</td>\n",
       "    </tr>\n",
       "    <tr>\n",
       "      <th>9998</th>\n",
       "      <td>..\\dataset\\nature_12K\\inaturalist_12K\\train\\Re...</td>\n",
       "      <td>Reptilia</td>\n",
       "      <td>10</td>\n",
       "    </tr>\n",
       "    <tr>\n",
       "      <th>9999</th>\n",
       "      <td>..\\dataset\\nature_12K\\inaturalist_12K\\train\\Re...</td>\n",
       "      <td>Reptilia</td>\n",
       "      <td>10</td>\n",
       "    </tr>\n",
       "  </tbody>\n",
       "</table>\n",
       "<p>10000 rows × 3 columns</p>\n",
       "</div>"
      ],
      "text/plain": [
       "                                             image_path     label  label_id\n",
       "0     ..\\dataset\\nature_12K\\inaturalist_12K\\train\\Am...  Amphibia         1\n",
       "1     ..\\dataset\\nature_12K\\inaturalist_12K\\train\\Am...  Amphibia         1\n",
       "2     ..\\dataset\\nature_12K\\inaturalist_12K\\train\\Am...  Amphibia         1\n",
       "3     ..\\dataset\\nature_12K\\inaturalist_12K\\train\\Am...  Amphibia         1\n",
       "4     ..\\dataset\\nature_12K\\inaturalist_12K\\train\\Am...  Amphibia         1\n",
       "...                                                 ...       ...       ...\n",
       "9995  ..\\dataset\\nature_12K\\inaturalist_12K\\train\\Re...  Reptilia        10\n",
       "9996  ..\\dataset\\nature_12K\\inaturalist_12K\\train\\Re...  Reptilia        10\n",
       "9997  ..\\dataset\\nature_12K\\inaturalist_12K\\train\\Re...  Reptilia        10\n",
       "9998  ..\\dataset\\nature_12K\\inaturalist_12K\\train\\Re...  Reptilia        10\n",
       "9999  ..\\dataset\\nature_12K\\inaturalist_12K\\train\\Re...  Reptilia        10\n",
       "\n",
       "[10000 rows x 3 columns]"
      ]
     },
     "execution_count": 20,
     "metadata": {},
     "output_type": "execute_result"
    }
   ],
   "source": [
    "train_df"
   ]
  },
  {
   "cell_type": "code",
   "execution_count": 14,
   "metadata": {},
   "outputs": [
    {
     "name": "stdout",
     "output_type": "stream",
     "text": [
      "0 Amphibia\n",
      "1 Animalia\n",
      "2 Arachnida\n",
      "3 Aves\n",
      "4 Fungi\n",
      "5 Insecta\n",
      "6 Mammalia\n",
      "7 Mollusca\n",
      "8 Plantae\n",
      "9 Reptilia\n"
     ]
    }
   ],
   "source": [
    "for i,j in enumerate(val_df[\"label\"].unique()):\n",
    "    print(i,j)"
   ]
  },
  {
   "cell_type": "code",
   "execution_count": null,
   "metadata": {},
   "outputs": [],
   "source": [
    "class CustomImageDataset(Dataset):\n",
    "    def __init__(self, annotations_file, img_dir, ):\n",
    "        self.img_labels = pd.read_csv(annotations_file)\n",
    "        self.img_dir = img_dir\n",
    "\n",
    "    def __len__(self):\n",
    "        return len(self.img_labels)\n",
    "\n",
    "    def __getitem__(self, idx):\n",
    "        img_path = os.path.join(self.img_dir, self.img_labels.iloc[idx, 0])\n",
    "        image = read_image(img_path)\n",
    "        label = self.img_labels.iloc[idx, 1]\n",
    "        return image, label"
   ]
  },
  {
   "cell_type": "code",
   "execution_count": 3,
   "metadata": {},
   "outputs": [],
   "source": [
    "# define any number of nn.Modules (or use your current ones)\n",
    "encoder = nn.Sequential(nn.Linear(28 * 28, 64), nn.ReLU(), nn.Linear(64, 3))\n",
    "decoder = nn.Sequential(nn.Linear(3, 64), nn.ReLU(), nn.Linear(64, 28 * 28))"
   ]
  },
  {
   "cell_type": "code",
   "execution_count": 4,
   "metadata": {},
   "outputs": [],
   "source": [
    "# define the LightningModule\n",
    "class LitAutoEncoder(L.LightningModule):\n",
    "    def __init__(self, encoder, decoder):\n",
    "        super().__init__()\n",
    "        self.encoder = encoder\n",
    "        self.decoder = decoder\n",
    "\n",
    "    def training_step(self, batch, batch_idx):\n",
    "        # training_step defines the train loop.\n",
    "        # it is independent of forward\n",
    "        x, _ = batch\n",
    "        x = x.view(x.size(0), -1)\n",
    "        z = self.encoder(x)\n",
    "        x_hat = self.decoder(z)\n",
    "        loss = nn.functional.mse_loss(x_hat, x)\n",
    "        # Logging to TensorBoard (if installed) by default\n",
    "        self.log(\"train_loss\", loss)\n",
    "        return loss\n",
    "\n",
    "    def configure_optimizers(self):\n",
    "        optimizer = optim.Adam(self.parameters(), lr=1e-3)\n",
    "        return optimizer"
   ]
  },
  {
   "cell_type": "code",
   "execution_count": 5,
   "metadata": {},
   "outputs": [],
   "source": [
    "# init the autoencoder\n",
    "autoencoder = LitAutoEncoder(encoder, decoder)"
   ]
  },
  {
   "cell_type": "code",
   "execution_count": 6,
   "metadata": {},
   "outputs": [
    {
     "name": "stderr",
     "output_type": "stream",
     "text": [
      "100%|██████████| 9.91M/9.91M [00:07<00:00, 1.34MB/s]\n",
      "100%|██████████| 28.9k/28.9k [00:00<00:00, 117kB/s]\n",
      "100%|██████████| 1.65M/1.65M [00:02<00:00, 789kB/s]\n",
      "100%|██████████| 4.54k/4.54k [00:00<00:00, 754kB/s]\n"
     ]
    }
   ],
   "source": [
    "# setup data\n",
    "dataset = MNIST(os.getcwd(), download=True, transform=ToTensor())\n",
    "train_loader = utils.data.DataLoader(dataset)"
   ]
  },
  {
   "cell_type": "code",
   "execution_count": 7,
   "metadata": {},
   "outputs": [
    {
     "name": "stderr",
     "output_type": "stream",
     "text": [
      "You are using the plain ModelCheckpoint callback. Consider using LitModelCheckpoint which with seamless uploading to Model registry.\n",
      "GPU available: False, used: False\n",
      "TPU available: False, using: 0 TPU cores\n",
      "HPU available: False, using: 0 HPUs\n",
      "\n",
      "  | Name    | Type       | Params | Mode \n",
      "-----------------------------------------------\n",
      "0 | encoder | Sequential | 50.4 K | train\n",
      "1 | decoder | Sequential | 51.2 K | train\n",
      "-----------------------------------------------\n",
      "101 K     Trainable params\n",
      "0         Non-trainable params\n",
      "101 K     Total params\n",
      "0.407     Total estimated model params size (MB)\n",
      "8         Modules in train mode\n",
      "0         Modules in eval mode\n",
      "c:\\Users\\yuvar\\miniconda3\\envs\\fastapi\\Lib\\site-packages\\lightning\\pytorch\\trainer\\connectors\\data_connector.py:425: The 'train_dataloader' does not have many workers which may be a bottleneck. Consider increasing the value of the `num_workers` argument` to `num_workers=11` in the `DataLoader` to improve performance.\n"
     ]
    },
    {
     "name": "stdout",
     "output_type": "stream",
     "text": [
      "Epoch 0: 100%|██████████| 100/100 [00:01<00:00, 51.45it/s, v_num=0]"
     ]
    },
    {
     "name": "stderr",
     "output_type": "stream",
     "text": [
      "`Trainer.fit` stopped: `max_epochs=1` reached.\n"
     ]
    },
    {
     "name": "stdout",
     "output_type": "stream",
     "text": [
      "Epoch 0: 100%|██████████| 100/100 [00:02<00:00, 49.33it/s, v_num=0]\n"
     ]
    }
   ],
   "source": [
    "# train the model (hint: here are some helpful Trainer arguments for rapid idea iteration)\n",
    "trainer = L.Trainer(limit_train_batches=100, max_epochs=1)\n",
    "trainer.fit(model=autoencoder, train_dataloaders=train_loader)"
   ]
  },
  {
   "cell_type": "code",
   "execution_count": null,
   "metadata": {},
   "outputs": [],
   "source": []
  }
 ],
 "metadata": {
  "kernelspec": {
   "display_name": "fastapi",
   "language": "python",
   "name": "python3"
  },
  "language_info": {
   "codemirror_mode": {
    "name": "ipython",
    "version": 3
   },
   "file_extension": ".py",
   "mimetype": "text/x-python",
   "name": "python",
   "nbconvert_exporter": "python",
   "pygments_lexer": "ipython3",
   "version": "3.11.11"
  }
 },
 "nbformat": 4,
 "nbformat_minor": 2
}
